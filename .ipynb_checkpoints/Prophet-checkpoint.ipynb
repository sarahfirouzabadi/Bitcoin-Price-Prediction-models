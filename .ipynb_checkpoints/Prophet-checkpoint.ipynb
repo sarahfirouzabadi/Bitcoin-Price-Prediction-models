{
 "cells": [
  {
   "cell_type": "code",
   "execution_count": 1,
   "id": "bd1e4e2d",
   "metadata": {},
   "outputs": [
    {
     "ename": "ModuleNotFoundError",
     "evalue": "No module named 'fbprophet'",
     "output_type": "error",
     "traceback": [
      "\u001b[1;31m---------------------------------------------------------------------------\u001b[0m",
      "\u001b[1;31mModuleNotFoundError\u001b[0m                       Traceback (most recent call last)",
      "Input \u001b[1;32mIn [1]\u001b[0m, in \u001b[0;36m<cell line: 10>\u001b[1;34m()\u001b[0m\n\u001b[0;32m      8\u001b[0m \u001b[38;5;28;01mfrom\u001b[39;00m \u001b[38;5;21;01msklearn\u001b[39;00m\u001b[38;5;21;01m.\u001b[39;00m\u001b[38;5;21;01mmetrics\u001b[39;00m \u001b[38;5;28;01mimport\u001b[39;00m mean_squared_error,mean_absolute_error\n\u001b[0;32m      9\u001b[0m \u001b[38;5;28;01mfrom\u001b[39;00m \u001b[38;5;21;01msklearn\u001b[39;00m\u001b[38;5;21;01m.\u001b[39;00m\u001b[38;5;21;01mpreprocessing\u001b[39;00m \u001b[38;5;28;01mimport\u001b[39;00m StandardScaler\n\u001b[1;32m---> 10\u001b[0m \u001b[38;5;28;01mfrom\u001b[39;00m \u001b[38;5;21;01mfbprophet\u001b[39;00m \u001b[38;5;28;01mimport\u001b[39;00m Prophet\n\u001b[0;32m     11\u001b[0m \u001b[38;5;28;01mfrom\u001b[39;00m \u001b[38;5;21;01mfbprophet\u001b[39;00m\u001b[38;5;21;01m.\u001b[39;00m\u001b[38;5;21;01mdiagnostics\u001b[39;00m \u001b[38;5;28;01mimport\u001b[39;00m cross_validation\n\u001b[0;32m     12\u001b[0m \u001b[38;5;28;01mfrom\u001b[39;00m \u001b[38;5;21;01mfbprophet\u001b[39;00m\u001b[38;5;21;01m.\u001b[39;00m\u001b[38;5;21;01mdiagnostics\u001b[39;00m \u001b[38;5;28;01mimport\u001b[39;00m performance_metrics\n",
      "\u001b[1;31mModuleNotFoundError\u001b[0m: No module named 'fbprophet'"
     ]
    }
   ],
   "source": [
    "import pandas as pd \n",
    "import numpy as np\n",
    "from bidi.algorithm import get_display\n",
    "from arabic_reshaper import reshape\n",
    "from matplotlib import pyplot# رسم شکل\n",
    "import matplotlib.pyplot as plt\n",
    "from sklearn.model_selection import train_test_split\n",
    "from sklearn.metrics import mean_squared_error,mean_absolute_error\n",
    "from sklearn.preprocessing import StandardScaler\n",
    "from fbprophet import Prophet\n",
    "from fbprophet.diagnostics import cross_validation\n",
    "from fbprophet.diagnostics import performance_metrics\n",
    "import prophet as prophet\n",
    "np.set_printoptions(threshold=10000000000000000000)\n",
    "pd.set_option('display.width',100000)\n",
    "pd.set_option('display.max_rows',100000)\n",
    "pd.set_option('display.max_columns',100000)"
   ]
  },
  {
   "cell_type": "code",
   "execution_count": null,
   "id": "c33e3887",
   "metadata": {},
   "outputs": [],
   "source": [
    "# Z=pd.read_excel(\"D1.xlsx\")\n",
    "Z=pd.read_excel(\"D2.xlsx\")"
   ]
  },
  {
   "cell_type": "code",
   "execution_count": null,
   "id": "931a8910",
   "metadata": {},
   "outputs": [],
   "source": [
    "Z"
   ]
  },
  {
   "cell_type": "code",
   "execution_count": null,
   "id": "726e483b",
   "metadata": {},
   "outputs": [],
   "source": [
    "Z.isnull().sum()"
   ]
  },
  {
   "cell_type": "code",
   "execution_count": null,
   "id": "0711d729",
   "metadata": {},
   "outputs": [],
   "source": [
    "Y=Z[['Date','Close']]"
   ]
  },
  {
   "cell_type": "code",
   "execution_count": null,
   "id": "29d277d8",
   "metadata": {},
   "outputs": [],
   "source": [
    "Y['difference']=np.log(Y['Close']).diff()"
   ]
  },
  {
   "cell_type": "code",
   "execution_count": null,
   "id": "b01e0245",
   "metadata": {},
   "outputs": [],
   "source": [
    "Y"
   ]
  },
  {
   "cell_type": "code",
   "execution_count": null,
   "id": "629f9966",
   "metadata": {},
   "outputs": [],
   "source": [
    "Y.isna().sum()"
   ]
  },
  {
   "cell_type": "code",
   "execution_count": null,
   "id": "bf185004",
   "metadata": {},
   "outputs": [],
   "source": [
    "Y.dropna(inplace=True)"
   ]
  },
  {
   "cell_type": "code",
   "execution_count": null,
   "id": "007ce617",
   "metadata": {},
   "outputs": [],
   "source": [
    "Y"
   ]
  },
  {
   "cell_type": "code",
   "execution_count": null,
   "id": "6b7dbb40",
   "metadata": {},
   "outputs": [],
   "source": [
    "Y=Y.drop(['Close'],axis=1)"
   ]
  },
  {
   "cell_type": "code",
   "execution_count": null,
   "id": "c9005078",
   "metadata": {},
   "outputs": [],
   "source": [
    "Y"
   ]
  },
  {
   "cell_type": "code",
   "execution_count": null,
   "id": "4ba47df0",
   "metadata": {},
   "outputs": [],
   "source": [
    "Y.rename(columns={\"Date\": \"ds\", \"difference\": \"y\"},inplace=True)"
   ]
  },
  {
   "cell_type": "code",
   "execution_count": null,
   "id": "335d9cf2",
   "metadata": {},
   "outputs": [],
   "source": [
    "Y"
   ]
  },
  {
   "cell_type": "code",
   "execution_count": null,
   "id": "1d47ffb4",
   "metadata": {},
   "outputs": [],
   "source": [
    "X_train=Y[:1500]\n",
    "X_test=Y[1500:]"
   ]
  },
  {
   "cell_type": "code",
   "execution_count": null,
   "id": "3c04c0c6",
   "metadata": {},
   "outputs": [],
   "source": [
    "model =Prophet()\n",
    "model.fit(X_train)"
   ]
  },
  {
   "cell_type": "code",
   "execution_count": null,
   "id": "1ff88498",
   "metadata": {},
   "outputs": [],
   "source": [
    "yhat=model.predict(X_test)"
   ]
  },
  {
   "cell_type": "code",
   "execution_count": null,
   "id": "eb4fc525",
   "metadata": {},
   "outputs": [],
   "source": [
    "Y_real_test=X_test['y']"
   ]
  },
  {
   "cell_type": "code",
   "execution_count": null,
   "id": "d9980e31",
   "metadata": {},
   "outputs": [],
   "source": [
    "yhat=yhat['yhat']"
   ]
  },
  {
   "cell_type": "code",
   "execution_count": null,
   "id": "e65b2977",
   "metadata": {},
   "outputs": [],
   "source": [
    "np.sqrt(mean_squared_error(Y_real_test,yhat))"
   ]
  },
  {
   "cell_type": "code",
   "execution_count": null,
   "id": "de15e8cd",
   "metadata": {},
   "outputs": [],
   "source": [
    "mean_squared_error(Y_real_test,yhat)"
   ]
  },
  {
   "cell_type": "code",
   "execution_count": null,
   "id": "a7ba30ce",
   "metadata": {},
   "outputs": [],
   "source": [
    "mean_absolute_error(Y_real_test,yhat)"
   ]
  },
  {
   "cell_type": "code",
   "execution_count": null,
   "id": "2f57e120",
   "metadata": {},
   "outputs": [],
   "source": [
    "Y_P=model.predict(Y)\n",
    "Y_P=np.array(Y_P['yhat'])"
   ]
  },
  {
   "cell_type": "code",
   "execution_count": null,
   "id": "562c6fd6",
   "metadata": {},
   "outputs": [],
   "source": [
    "plt.figure(figsize=(12, 8))\n",
    "plt.plot(Y['y'],label=get_display(reshape('مقادیر واقعی')))\n",
    "plt.plot(Y_P.reshape(-1,1),label=get_display(reshape('مقادیر پیش بینی')))\n",
    "plt.legend(loc='best',fontsize=14)\n",
    "plt.show()"
   ]
  },
  {
   "cell_type": "code",
   "execution_count": null,
   "id": "d0dd8164",
   "metadata": {},
   "outputs": [],
   "source": []
  },
  {
   "cell_type": "code",
   "execution_count": null,
   "id": "4ef13d9b",
   "metadata": {},
   "outputs": [],
   "source": []
  },
  {
   "cell_type": "code",
   "execution_count": null,
   "id": "bcf10e9c",
   "metadata": {},
   "outputs": [],
   "source": []
  },
  {
   "cell_type": "code",
   "execution_count": null,
   "id": "8c4abe6c",
   "metadata": {},
   "outputs": [],
   "source": []
  },
  {
   "cell_type": "code",
   "execution_count": null,
   "id": "7f0d49e2",
   "metadata": {},
   "outputs": [],
   "source": []
  },
  {
   "cell_type": "code",
   "execution_count": null,
   "id": "b912a3bc",
   "metadata": {},
   "outputs": [],
   "source": [
    "range_n_changepoints = np.arange(1,40)\n",
    "mean_squared_error_avg = []\n",
    "for n_changepoints in range_n_changepoints:\n",
    "    model =Prophet(n_changepoints=n_changepoints)\n",
    "    model.fit(X_train)\n",
    "    Y_P = model.predict(X_test)\n",
    "    Y_P=Y_P['yhat']\n",
    "    mean_squared_error_avg.append(np.sqrt(mean_squared_error(Y_real_test,Y_P)))\n",
    "    mean_squared_error_avg.append(n_changepoints)"
   ]
  },
  {
   "cell_type": "code",
   "execution_count": null,
   "id": "1a505f30",
   "metadata": {},
   "outputs": [],
   "source": []
  },
  {
   "cell_type": "code",
   "execution_count": null,
   "id": "25457894",
   "metadata": {},
   "outputs": [],
   "source": []
  },
  {
   "cell_type": "code",
   "execution_count": null,
   "id": "b62eacba",
   "metadata": {},
   "outputs": [],
   "source": []
  },
  {
   "cell_type": "code",
   "execution_count": null,
   "id": "23feace4",
   "metadata": {},
   "outputs": [],
   "source": []
  },
  {
   "cell_type": "code",
   "execution_count": null,
   "id": "32b318e9",
   "metadata": {},
   "outputs": [],
   "source": []
  },
  {
   "cell_type": "code",
   "execution_count": null,
   "id": "1cdf2418",
   "metadata": {},
   "outputs": [],
   "source": []
  },
  {
   "cell_type": "code",
   "execution_count": null,
   "id": "c5bf5e08",
   "metadata": {},
   "outputs": [],
   "source": []
  },
  {
   "cell_type": "code",
   "execution_count": null,
   "id": "e8979dd4",
   "metadata": {},
   "outputs": [],
   "source": []
  },
  {
   "cell_type": "code",
   "execution_count": null,
   "id": "125ada31",
   "metadata": {},
   "outputs": [],
   "source": []
  },
  {
   "cell_type": "code",
   "execution_count": null,
   "id": "a4fdac07",
   "metadata": {},
   "outputs": [],
   "source": []
  },
  {
   "cell_type": "code",
   "execution_count": null,
   "id": "6b1cee27",
   "metadata": {},
   "outputs": [],
   "source": []
  },
  {
   "cell_type": "code",
   "execution_count": null,
   "id": "10b6a353",
   "metadata": {},
   "outputs": [],
   "source": []
  },
  {
   "cell_type": "code",
   "execution_count": null,
   "id": "9c31b4fc",
   "metadata": {},
   "outputs": [],
   "source": []
  },
  {
   "cell_type": "code",
   "execution_count": null,
   "id": "3d461513",
   "metadata": {},
   "outputs": [],
   "source": []
  },
  {
   "cell_type": "code",
   "execution_count": null,
   "id": "0809eb19",
   "metadata": {},
   "outputs": [],
   "source": []
  },
  {
   "cell_type": "code",
   "execution_count": null,
   "id": "983ad1e1",
   "metadata": {},
   "outputs": [],
   "source": []
  },
  {
   "cell_type": "code",
   "execution_count": null,
   "id": "3ca6cae9",
   "metadata": {},
   "outputs": [],
   "source": []
  },
  {
   "cell_type": "code",
   "execution_count": null,
   "id": "74302020",
   "metadata": {},
   "outputs": [],
   "source": []
  },
  {
   "cell_type": "code",
   "execution_count": null,
   "id": "9b902e38",
   "metadata": {},
   "outputs": [],
   "source": []
  },
  {
   "cell_type": "code",
   "execution_count": null,
   "id": "d1efbb73",
   "metadata": {},
   "outputs": [],
   "source": []
  }
 ],
 "metadata": {
  "kernelspec": {
   "display_name": "Python 3 (ipykernel)",
   "language": "python",
   "name": "python3"
  },
  "language_info": {
   "codemirror_mode": {
    "name": "ipython",
    "version": 3
   },
   "file_extension": ".py",
   "mimetype": "text/x-python",
   "name": "python",
   "nbconvert_exporter": "python",
   "pygments_lexer": "ipython3",
   "version": "3.9.0"
  }
 },
 "nbformat": 4,
 "nbformat_minor": 5
}
